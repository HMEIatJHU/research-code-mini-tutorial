{
 "cells": [
  {
   "cell_type": "code",
   "execution_count": 1,
   "id": "2c4b350d",
   "metadata": {},
   "outputs": [],
   "source": [
    "import numpy as np\n",
    "import matplotlib.pyplot as plt\n",
    "\n",
    "import torch\n",
    "from torch import nn\n",
    "from torch import optim\n",
    "from torch.utils.data import DataLoader, TensorDataset"
   ]
  },
  {
   "cell_type": "markdown",
   "id": "ab3a0629",
   "metadata": {},
   "source": [
    "# Simulate Raw Data; Split Train/Dev/Test"
   ]
  },
  {
   "cell_type": "code",
   "execution_count": 9,
   "id": "e85e9e61",
   "metadata": {},
   "outputs": [],
   "source": [
    "# draw data from two independent Gaussian distributions: 0 = mean (0,0); 1 = mean(1,1); var = 0.1\n",
    "N = 1000\n",
    "group0 = np.random.multivariate_normal(mean = [0., 0.], cov = [[0.1, 0.], [0., 0.1]], size=N)\n",
    "group1 = np.random.multivariate_normal(mean = [1., 1.], cov = [[0.1, 0.], [0., 0.1]], size=N)\n",
    "group0_label, group1_label = np.zeros(N), np.ones(N)\n",
    "# shuffle data\n",
    "X, Y = np.append(group0,group1,axis=0), np.append(group0_label,group1_label,axis=0)\n",
    "L = len(X)\n",
    "indices = list(range(L))\n",
    "np.random.shuffle(indices)\n",
    "# split train/dev/test\n",
    "train_indices, dev_indices, test_indices = indices[:int(0.8*L)], indices[int(0.8*L):int(0.9*L)], indices[int(0.9*L):]\n",
    "Xtrain, Xdev, Xtest = X[train_indices], X[dev_indices], X[test_indices]\n",
    "Ytrain, Ydev, Ytest = Y[train_indices], Y[dev_indices], Y[test_indices]"
   ]
  },
  {
   "cell_type": "code",
   "execution_count": 10,
   "id": "54664ca3",
   "metadata": {},
   "outputs": [
    {
     "data": {
      "text/plain": [
       "<matplotlib.legend.Legend at 0x12ea72dc0>"
      ]
     },
     "execution_count": 10,
     "metadata": {},
     "output_type": "execute_result"
    },
    {
     "data": {
      "image/png": "[encoded data removed]",
      "text/plain": [
       "<Figure size 432x288 with 1 Axes>"
      ]
     },
     "metadata": {
      "needs_background": "light"
     },
     "output_type": "display_data"
    }
   ],
   "source": [
    "# Let's take a lot at the generated data\n",
    "plt.figure()\n",
    "plt.scatter(x=group0.T[0], y=group0.T[1], label=0)\n",
    "plt.scatter(x=group1.T[0], y=group1.T[1], label=1)\n",
    "plt.legend()"
   ]
  },
  {
   "cell_type": "markdown",
   "id": "fce32f73",
   "metadata": {},
   "source": [
    "# Convert to Tensors and Split into batches"
   ]
  },
  {
   "cell_type": "code",
   "execution_count": 11,
   "id": "aaba9313",
   "metadata": {},
   "outputs": [
    {
     "data": {
      "text/plain": [
       "(1600, 200, 200)"
      ]
     },
     "execution_count": 11,
     "metadata": {},
     "output_type": "execute_result"
    }
   ],
   "source": [
    "# organize data into torch dataloaders\n",
    "# train\n",
    "train_set = TensorDataset(torch.tensor(Xtrain), torch.tensor(Ytrain))\n",
    "train_loader = DataLoader(train_set, batch_size=128)\n",
    "# dev \n",
    "dev_set = TensorDataset(torch.tensor(Xdev), torch.tensor(Ydev))\n",
    "dev_loader = DataLoader(dev_set, batch_size=128)\n",
    "# test\n",
    "test_set = TensorDataset(torch.tensor(Xtest), torch.tensor(Ytest))\n",
    "test_loader = DataLoader(test_set, batch_size=128)\n",
    "# show sizes\n",
    "len(train_set), len(dev_set), len(test_set)"
   ]
  },
  {
   "cell_type": "markdown",
   "id": "2e0cc960",
   "metadata": {},
   "source": [
    "# Define Neural Network"
   ]
  },
  {
   "cell_type": "code",
   "execution_count": 12,
   "id": "fba85229",
   "metadata": {},
   "outputs": [],
   "source": [
    "class MLP(nn.Module):\n",
    "    # a simple 2-layer neural net implemented from scratch\n",
    "    \n",
    "    def __init__(self, input_dim = 2, output_dim=2, n_neurons = 16, activation=nn.Sigmoid):\n",
    "        super(MLP, self).__init__()\n",
    "        self.input_dim = input_dim\n",
    "        self.output_dim = output_dim\n",
    "        self.n_neurons = n_neurons\n",
    "        self.h1=nn.Linear(input_dim, n_neurons)\n",
    "        self.h2=nn.Linear(n_neurons, n_neurons)\n",
    "        self.output=nn.Linear(n_neurons, output_dim)\n",
    "        self.activation=activation()\n",
    "    \n",
    "    def forward(self, x):\n",
    "        x=self.activation(self.h1(x.float()))\n",
    "        x=self.activation(self.h2(x))\n",
    "        x=self.output(x)\n",
    "        return x      "
   ]
  },
  {
   "cell_type": "code",
   "execution_count": 13,
   "id": "35be4070",
   "metadata": {},
   "outputs": [],
   "source": [
    "# Code Reference: https://www.kaggle.com/basu369victor/pytorch-tutorial-the-classification\n",
    "\n",
    "class Classifier():\n",
    "    \n",
    "    def __init__(self, model, criterion=nn.CrossEntropyLoss, optimizer=optim.Adam):\n",
    "        self.model = model\n",
    "        self.criterion = criterion()\n",
    "        self.optimizer = optimizer(self.model.parameters())\n",
    "    \n",
    "    def train(self, train_loader, dev_loader=None, n_epochs=10):\n",
    "        # set to train mode\n",
    "        self.model.train()\n",
    "        for epoch in range(n_epochs):\n",
    "            for feature, target in train_loader:\n",
    "                # compute loss and back-prop\n",
    "                self.optimizer.zero_grad()\n",
    "                output = self.model(feature)                \n",
    "                loss = self.criterion(output, target.long())\n",
    "                loss.backward()\n",
    "                self.optimizer.step()\n",
    "            # check dev accuracy\n",
    "            if dev_loader != None:\n",
    "                acc = self.validate(dev_loader)\n",
    "                print(f\"{acc*100.0:.2f}% : dev acc of epoch-{epoch}\")\n",
    "\n",
    "    def validate(self, data_loader):\n",
    "        self.model.eval()\n",
    "        correct = 0.\n",
    "        total = 0.\n",
    "        with torch.no_grad():\n",
    "            for feature, target in data_loader:\n",
    "                output = self.model(feature)\n",
    "                _, prediction = torch.max(output, dim=1)\n",
    "                correct += torch.sum(prediction==target).item()\n",
    "                total += target.size(0)\n",
    "        return 1.0 * correct / total\n",
    "        \n",
    "    def test(self, data_loader): \n",
    "        acc = self.validate(data_loader)\n",
    "        print(f\"{acc*100.0:.2f}% : test acc\")"
   ]
  },
  {
   "cell_type": "code",
   "execution_count": 14,
   "id": "a629d90a",
   "metadata": {},
   "outputs": [
    {
     "name": "stdout",
     "output_type": "stream",
     "text": [
      "44.50% : dev acc of epoch-0\n",
      "55.50% : dev acc of epoch-1\n",
      "87.00% : dev acc of epoch-2\n",
      "94.00% : dev acc of epoch-3\n",
      "96.50% : dev acc of epoch-4\n",
      "98.50% : dev acc of epoch-5\n",
      "99.50% : dev acc of epoch-6\n",
      "99.00% : dev acc of epoch-7\n",
      "99.00% : dev acc of epoch-8\n",
      "99.50% : dev acc of epoch-9\n"
     ]
    }
   ],
   "source": [
    "mymodel = MLP()\n",
    "myclassifier = Classifier(mymodel)\n",
    "myclassifier.train(train_loader, dev_loader)"
   ]
  },
  {
   "cell_type": "code",
   "execution_count": 15,
   "id": "3187458d",
   "metadata": {},
   "outputs": [
    {
     "name": "stdout",
     "output_type": "stream",
     "text": [
      "98.00% : test acc\n"
     ]
    }
   ],
   "source": [
    "myclassifier.test(test_loader)"
   ]
  },
  {
   "cell_type": "code",
   "execution_count": null,
   "id": "baa2f23a",
   "metadata": {},
   "outputs": [],
   "source": []
  }
 ],
 "metadata": {
  "kernelspec": {
   "display_name": "Python 3 (ipykernel)",
   "language": "python",
   "name": "python3"
  },
  "language_info": {
   "codemirror_mode": {
    "name": "ipython",
    "version": 3
   },
   "file_extension": ".py",
   "mimetype": "text/x-python",
   "name": "python",
   "nbconvert_exporter": "python",
   "pygments_lexer": "ipython3",
   "version": "3.9.6"
  }
 },
 "nbformat": 4,
 "nbformat_minor": 5
}
